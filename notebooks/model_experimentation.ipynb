{
 "cells": [
  {
   "cell_type": "code",
   "execution_count": 1,
   "metadata": {},
   "outputs": [],
   "source": [
    "# notebooks/model_experimentation.ipynb\n",
    "\n",
    "import numpy as np\n",
    "import pandas as pd\n",
    "from sklearn.ensemble import RandomForestClassifier\n",
    "from sklearn.metrics import accuracy_score, precision_score, recall_score, f1_score\n",
    "from xgboost import XGBClassifier\n",
    "from sklearn.model_selection import GridSearchCV"
   ]
  },
  {
   "cell_type": "code",
   "execution_count": 2,
   "metadata": {},
   "outputs": [],
   "source": [
    "# Load the preprocessed train and test data\n",
    "train_data = np.load('path/to/preprocessed_data.npy')\n",
    "test_data = np.load('path/to/test_data.npy')"
   ]
  },
  {
   "cell_type": "code",
   "execution_count": 3,
   "metadata": {},
   "outputs": [],
   "source": [
    "# Convert the NumPy arrays to pandas DataFrames\n",
    "train_df = pd.DataFrame(train_data, columns=['feature_' + str(i) for i in range(train_data.shape[1] - 1)] + ['target'])\n",
    "test_df = pd.DataFrame(test_data, columns=['feature_' + str(i) for i in range(test_data.shape[1] - 1)] + ['target'])"
   ]
  },
  {
   "cell_type": "code",
   "execution_count": 4,
   "metadata": {},
   "outputs": [],
   "source": [
    "# Split the train and test data into features and target\n",
    "X_train = train_df.drop('target', axis=1)\n",
    "y_train = train_df['target']\n",
    "X_test = test_df.drop('target', axis=1)\n",
    "y_test = test_df['target']"
   ]
  },
  {
   "cell_type": "code",
   "execution_count": 7,
   "metadata": {},
   "outputs": [
    {
     "name": "stdout",
     "output_type": "stream",
     "text": [
      "Random Forest Classifier:\n",
      "Accuracy: 0.955\n",
      "Precision: 0.9540229885057471\n",
      "Recall: 0.9431818181818182\n",
      "F1 Score: 0.9485714285714286\n"
     ]
    }
   ],
   "source": [
    "# Random Forest Classifier\n",
    "rf_model = RandomForestClassifier(random_state=42)\n",
    "\n",
    "# Encode the target variable as discrete classes\n",
    "y_train_encoded = np.where(y_train > 0.5, 1, 0)\n",
    "y_test_encoded = np.where(y_test > 0.5, 1, 0)\n",
    "\n",
    "rf_model.fit(X_train, y_train_encoded)\n",
    "rf_predictions = rf_model.predict(X_test)\n",
    "\n",
    "print(\"Random Forest Classifier:\")\n",
    "print(\"Accuracy:\", accuracy_score(y_test_encoded, rf_predictions))\n",
    "print(\"Precision:\", precision_score(y_test_encoded, rf_predictions))\n",
    "print(\"Recall:\", recall_score(y_test_encoded, rf_predictions))\n",
    "print(\"F1 Score:\", f1_score(y_test_encoded, rf_predictions))"
   ]
  },
  {
   "cell_type": "code",
   "execution_count": 8,
   "metadata": {},
   "outputs": [
    {
     "name": "stdout",
     "output_type": "stream",
     "text": [
      "XGBoost Classifier:\n",
      "Accuracy: 0.96\n",
      "Precision: 0.9444444444444444\n",
      "Recall: 0.9659090909090909\n",
      "F1 Score: 0.9550561797752809\n"
     ]
    }
   ],
   "source": [
    "# XGBoost Classifier\n",
    "xgb_model = XGBClassifier(random_state=42)\n",
    "\n",
    "# Encode the target variable as discrete classes\n",
    "y_train_encoded = np.where(y_train > 0.5, 1, 0)\n",
    "y_test_encoded = np.where(y_test > 0.5, 1, 0)\n",
    "\n",
    "xgb_model.fit(X_train, y_train_encoded)\n",
    "xgb_predictions = xgb_model.predict(X_test)\n",
    "\n",
    "print(\"XGBoost Classifier:\")\n",
    "print(\"Accuracy:\", accuracy_score(y_test_encoded, xgb_predictions))\n",
    "print(\"Precision:\", precision_score(y_test_encoded, xgb_predictions))\n",
    "print(\"Recall:\", recall_score(y_test_encoded, xgb_predictions))\n",
    "print(\"F1 Score:\", f1_score(y_test_encoded, xgb_predictions))"
   ]
  },
  {
   "cell_type": "code",
   "execution_count": 10,
   "metadata": {},
   "outputs": [
    {
     "name": "stdout",
     "output_type": "stream",
     "text": [
      "Best parameters for Random Forest Classifier: {'max_depth': None, 'min_samples_split': 2, 'n_estimators': 300}\n",
      "Best score for Random Forest Classifier: 0.9262499999999999\n"
     ]
    }
   ],
   "source": [
    "# Hyperparameter tuning for Random Forest Classifier\n",
    "rf_params = {\n",
    "    'n_estimators': [100, 200, 300],\n",
    "    'max_depth': [None, 5, 10],\n",
    "    'min_samples_split': [2, 5, 10]\n",
    "}\n",
    "\n",
    "# Encode the target variable as discrete classes\n",
    "y_train_encoded = np.where(y_train > 0.5, 1, 0)\n",
    "\n",
    "rf_grid = GridSearchCV(estimator=RandomForestClassifier(random_state=42), param_grid=rf_params, cv=5, scoring='accuracy')\n",
    "rf_grid.fit(X_train, y_train_encoded)\n",
    "\n",
    "print(\"Best parameters for Random Forest Classifier:\", rf_grid.best_params_)\n",
    "print(\"Best score for Random Forest Classifier:\", rf_grid.best_score_)"
   ]
  },
  {
   "cell_type": "code",
   "execution_count": 11,
   "metadata": {},
   "outputs": [
    {
     "name": "stdout",
     "output_type": "stream",
     "text": [
      "Best parameters for XGBoost Classifier: {'learning_rate': 0.1, 'max_depth': 7, 'n_estimators': 200}\n",
      "Best score for XGBoost Classifier: 0.9287500000000002\n"
     ]
    }
   ],
   "source": [
    "# Hyperparameter tuning for XGBoost Classifier\n",
    "xgb_params = {\n",
    "    'n_estimators': [50, 100, 200],\n",
    "    'max_depth': [3, 5, 7],\n",
    "    'learning_rate': [0.01, 0.1, 0.3]\n",
    "}\n",
    "\n",
    "# Encode the target variable as discrete classes\n",
    "y_train_encoded = np.where(y_train > 0.5, 1, 0)\n",
    "\n",
    "xgb_grid = GridSearchCV(estimator=XGBClassifier(random_state=42), param_grid=xgb_params, cv=5, scoring='accuracy')\n",
    "xgb_grid.fit(X_train, y_train_encoded)\n",
    "\n",
    "print(\"Best parameters for XGBoost Classifier:\", xgb_grid.best_params_)\n",
    "print(\"Best score for XGBoost Classifier:\", xgb_grid.best_score_)"
   ]
  }
 ],
 "metadata": {
  "kernelspec": {
   "display_name": "tf_env",
   "language": "python",
   "name": "python3"
  },
  "language_info": {
   "codemirror_mode": {
    "name": "ipython",
    "version": 3
   },
   "file_extension": ".py",
   "mimetype": "text/x-python",
   "name": "python",
   "nbconvert_exporter": "python",
   "pygments_lexer": "ipython3",
   "version": "3.10.14"
  }
 },
 "nbformat": 4,
 "nbformat_minor": 2
}
